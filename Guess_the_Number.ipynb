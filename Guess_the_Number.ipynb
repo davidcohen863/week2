{
  "nbformat": 4,
  "nbformat_minor": 0,
  "metadata": {
    "colab": {
      "provenance": [],
      "authorship_tag": "ABX9TyPmQNgO8/oUa/Bct+yiF6TN",
      "include_colab_link": true
    },
    "kernelspec": {
      "name": "python3",
      "display_name": "Python 3"
    },
    "language_info": {
      "name": "python"
    }
  },
  "cells": [
    {
      "cell_type": "markdown",
      "metadata": {
        "id": "view-in-github",
        "colab_type": "text"
      },
      "source": [
        "<a href=\"https://colab.research.google.com/github/davidcohen863/week2/blob/main/Guess_the_Number.ipynb\" target=\"_parent\"><img src=\"https://colab.research.google.com/assets/colab-badge.svg\" alt=\"Open In Colab\"/></a>"
      ]
    },
    {
      "cell_type": "code",
      "source": [
        "import random\n",
        "\n",
        "secret_number = random.randint(1, 20)\n",
        "print(\"I'm thinking of a number between 1 and 20. You have 3 tries!\")\n",
        "\n",
        "# Give the player 3 attempts\n",
        "for attempt in range(1, 4):\n",
        "    guess = int(input(f\"Attempt {attempt}: Take a guess → \"))\n",
        "\n",
        "    if guess < secret_number:\n",
        "        print(\"Too low!\")\n",
        "    elif guess > secret_number:\n",
        "        print(\"Too high!\")\n",
        "    else:\n",
        "        print(f\"🎉 Nice! You guessed it in {attempt} tries!\")\n",
        "        break\n",
        "else:\n",
        "    # This runs if the loop ends without a break\n",
        "    print(f\"😢 Sorry, you’re out of tries. The number was {secret_number}.\")\n"
      ],
      "metadata": {
        "colab": {
          "base_uri": "https://localhost:8080/"
        },
        "id": "f-b5jrvDkCjT",
        "outputId": "71a72a4e-ea40-43fb-80ec-b928481b0d8e"
      },
      "execution_count": 3,
      "outputs": [
        {
          "output_type": "stream",
          "name": "stdout",
          "text": [
            "I'm thinking of a number between 1 and 20. You have 3 tries!\n",
            "Attempt 1: Take a guess → 15\n",
            "Too high!\n",
            "Attempt 2: Take a guess → 12\n",
            "Too high!\n",
            "Attempt 3: Take a guess → 4\n",
            "Too low!\n",
            "😢 Sorry, you’re out of tries. The number was 7.\n"
          ]
        }
      ]
    },
    {
      "cell_type": "code",
      "source": [],
      "metadata": {
        "id": "70GobqlbkRMU"
      },
      "execution_count": null,
      "outputs": []
    }
  ]
}