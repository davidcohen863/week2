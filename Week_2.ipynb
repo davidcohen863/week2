{
  "nbformat": 4,
  "nbformat_minor": 0,
  "metadata": {
    "colab": {
      "provenance": [],
      "authorship_tag": "ABX9TyMdlRqnp691R3BmprSFe1dW",
      "include_colab_link": true
    },
    "kernelspec": {
      "name": "python3",
      "display_name": "Python 3"
    },
    "language_info": {
      "name": "python"
    }
  },
  "cells": [
    {
      "cell_type": "markdown",
      "metadata": {
        "id": "view-in-github",
        "colab_type": "text"
      },
      "source": [
        "<a href=\"https://colab.research.google.com/github/davidcohen863/week2/blob/main/Week_2.ipynb\" target=\"_parent\"><img src=\"https://colab.research.google.com/assets/colab-badge.svg\" alt=\"Open In Colab\"/></a>"
      ]
    },
    {
      "cell_type": "code",
      "execution_count": 4,
      "metadata": {
        "colab": {
          "base_uri": "https://localhost:8080/"
        },
        "id": "dmvqLR3kChRG",
        "outputId": "9db1887b-5d2c-4a69-a362-9e33247b49d7"
      },
      "outputs": [
        {
          "output_type": "stream",
          "name": "stdout",
          "text": [
            "Hello David, you are 27 years old.\n"
          ]
        }
      ],
      "source": [
        "def greet(name, age):\n",
        "    return f\"Hello {name}, you are {age} years old.\"\n",
        "\n",
        "print(greet(\"David\", 27))\n"
      ]
    }
  ]
}